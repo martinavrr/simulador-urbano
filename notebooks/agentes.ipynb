{
 "cells": [
  {
   "cell_type": "markdown",
   "metadata": {},
   "source": [
    "# Agentes"
   ]
  },
  {
   "cell_type": "markdown",
   "metadata": {},
   "source": [
    "¿Cómo definir el comportamiento de los agentes?\n",
    "\n",
    "- Se puede definir por el comportamiento de las personas ante una emergencia\n",
    "\n",
    "Si bien esto es factible, el comportamiento de las personas tiende a ser distinto según varios factores. Así que una buena opción es darle cierta probabilidad y restriciones a los comportamientos, primero hay que definir los agentes como individuos y grupos familiares, también se debe definir que es una aglomeración (20 personan en un mismo sector *buscar referencia*)\n",
    "\n",
    "- Tiempo de evacuación (tiempo en que se demora el agente en empezar a evacuar), esto puede cambiar de acuerdo a la edad y género del agente: \n",
    "    - Tiempo promedio de evacuación (12 minutos) (Beyond houses)\n",
    "    - Tiempo superior al promedio de evacuación (20 minutos) (Beyond houses)\n",
    "    - Tiempo menor al promedio de evacuación\n",
    "    - No evacua\n",
    "    - Si es niño, tercera edad, dicapacitado o del mismo grupo familiar de estos se aplica penalización a la velocidad promedio.\n",
    "\n",
    "- Velocidad de evacuación (velocidad a las que las personas llegan al lugar de evacuación), aquí existen tres posibilidades:\n",
    "\n",
    "    - El agente va al punto más cercano de evacuación\n",
    "    - El agente va al punto más lejano de evacuación\n",
    "    - El agente va a un punto intermedio de evacuación \n",
    "\n",
    "    A partir de esto el agente puede:\n",
    "\n",
    "    - Ir a velocidad promedio (0.66 m/s) (Understanding Tsunami Evacuation via a Social Force Model)\n",
    "    - Más rápido que la velocidad promedio (1.19 m/s) (Analysis of Pedestrian Behavior fot the Optimization of Evacuation Strategies)\n",
    "    - Más lento que la velocidad promedio\n",
    "\n",
    "- Horario de la evacuación, se aplica penalización en la velocidad y el tiempo de evacuación si es 'horario nocturno'.\n",
    "\n",
    "- 'Erraticidad' del agente (esto determinará el camino que el agente tomará al lugar de evacuación):\n",
    "\n",
    "    - Camino designado al lugar de evacuación\n",
    "    - Camino más corto al lugar de evacuación\n",
    "    - Camino más largo al lugar de evacuación\n",
    "\n",
    "- Situación de aglomeración:\n",
    "\n",
    "    - Poca aglomeración, velocidad normal\n",
    "    - Mucha aglomeración, penalización en la vellocidad promedio\n",
    "\n",
    "- Estado psicológico del agente:\n",
    "\n",
    "    - Si enciende un foco de incencio a cierta distancia del agente, este entrará en modo pánico, que eleva la velocidad del agente, cambia su 'erraticidad' y puede o no cambiar el punto al que se dirigía.\n",
    "    - Un agente se puede contagiar de pánico con cierta probabilidad si otro agente entra en pánico (que una persona entre en pánico se puede dar con cierta probabilidad, aumentado su velocidad y cambiando su erraticidad).\n",
    "    - Un agente puede convertirse en líder y 'evitar' aglomeraciones (hacer que la gente aumente su velocidad y no sea 'erratica' en elegir el camino).\n",
    "    - Preparación de riego, si un agente sabe las vías de evacuación o tiene experiencia previa, tendrán todas sus estdísticas al promedio.\n",
    "    \n",
    "\n"
   ]
  }
 ],
 "metadata": {
  "language_info": {
   "name": "python"
  }
 },
 "nbformat": 4,
 "nbformat_minor": 2
}
